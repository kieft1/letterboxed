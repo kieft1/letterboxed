{
  "nbformat": 4,
  "nbformat_minor": 0,
  "metadata": {
    "colab": {
      "provenance": [],
      "authorship_tag": "ABX9TyN0r1A6UnU7KyiJgElw9TFd",
      "include_colab_link": true
    },
    "kernelspec": {
      "name": "python3",
      "display_name": "Python 3"
    },
    "language_info": {
      "name": "python"
    }
  },
  "cells": [
    {
      "cell_type": "markdown",
      "metadata": {
        "id": "view-in-github",
        "colab_type": "text"
      },
      "source": [
        "<a href=\"https://colab.research.google.com/github/kieft1/letterboxed/blob/colab/letterboxed.ipynb\" target=\"_parent\"><img src=\"https://colab.research.google.com/assets/colab-badge.svg\" alt=\"Open In Colab\"/></a>"
      ]
    },
    {
      "cell_type": "markdown",
      "source": [
        "# Letter Boxed Solver\n",
        "\n",
        "Notebook to run the solver for [NYT Letter Boxed](https://www.nytimes.com/puzzles/letter-boxed) using the [solver repository](https://github.com/kieft1/letterboxed)."
      ],
      "metadata": {
        "id": "8wLmcTQ5caey"
      }
    },
    {
      "cell_type": "markdown",
      "source": [
        "## Setup"
      ],
      "metadata": {
        "id": "PP4GtYc4KbdL"
      }
    },
    {
      "cell_type": "markdown",
      "source": [
        "Clone git repository and checkout version 1.0.0"
      ],
      "metadata": {
        "id": "x7y_e5rfMuge"
      }
    },
    {
      "cell_type": "code",
      "source": [
        "%cd /content\n",
        "!git clone https://github.com/kieft1/letterboxed.git"
      ],
      "metadata": {
        "colab": {
          "base_uri": "https://localhost:8080/"
        },
        "id": "ySbz0LZJqEW8",
        "outputId": "19b9ed6c-d671-4387-f095-21187346d313"
      },
      "execution_count": null,
      "outputs": [
        {
          "output_type": "stream",
          "name": "stdout",
          "text": [
            "/content\n",
            "Cloning into 'letterboxed'...\n",
            "remote: Enumerating objects: 90, done.\u001b[K\n",
            "remote: Counting objects: 100% (90/90), done.\u001b[K\n",
            "remote: Compressing objects: 100% (52/52), done.\u001b[K\n",
            "remote: Total 90 (delta 42), reused 77 (delta 35), pack-reused 0\u001b[K\n",
            "Receiving objects: 100% (90/90), 2.48 MiB | 11.27 MiB/s, done.\n",
            "Resolving deltas: 100% (42/42), done.\n"
          ]
        }
      ]
    },
    {
      "cell_type": "code",
      "source": [
        "%cd /content/letterboxed\n",
        "!git checkout v1.0.0 -q"
      ],
      "metadata": {
        "colab": {
          "base_uri": "https://localhost:8080/"
        },
        "id": "NiCIEUrJYFnO",
        "outputId": "bff8f9fa-32f4-4605-b166-f25aeb7e9dd1"
      },
      "execution_count": null,
      "outputs": [
        {
          "output_type": "stream",
          "name": "stdout",
          "text": [
            "/content/letterboxed\n"
          ]
        }
      ]
    },
    {
      "cell_type": "markdown",
      "source": [
        "Change directory and install required packages"
      ],
      "metadata": {
        "id": "rFqlEtmMM0vv"
      }
    },
    {
      "cell_type": "code",
      "source": [
        "%cd /content/letterboxed\n",
        "!pip install -r requirements.txt -q"
      ],
      "metadata": {
        "colab": {
          "base_uri": "https://localhost:8080/"
        },
        "id": "UaMIH3ANKKr0",
        "outputId": "4b67fb37-7f65-4e90-bff9-e39adfcdd7b7"
      },
      "execution_count": null,
      "outputs": [
        {
          "output_type": "stream",
          "name": "stdout",
          "text": [
            "/content/letterboxed\n",
            "\u001b[2K     \u001b[90m━━━━━━━━━━━━━━━━━━━━━━━━━━━━━━━━━━━━━━━━\u001b[0m \u001b[32m58.4/58.4 kB\u001b[0m \u001b[31m1.1 MB/s\u001b[0m eta \u001b[36m0:00:00\u001b[0m\n",
            "\u001b[?25h"
          ]
        }
      ]
    },
    {
      "cell_type": "markdown",
      "source": [
        "## Running the solver"
      ],
      "metadata": {
        "id": "B4cdNdoPK0ta"
      }
    },
    {
      "cell_type": "markdown",
      "source": [
        "Run the python file and await the results.\n",
        "\n",
        "By default, today's NYT puzzle will be retrieved and solved.  Results are saved in the Files area to the left."
      ],
      "metadata": {
        "id": "ZWM5ibLoM67O"
      }
    },
    {
      "cell_type": "code",
      "source": [
        "%run letterboxed.py"
      ],
      "metadata": {
        "colab": {
          "base_uri": "https://localhost:8080/"
        },
        "id": "DLNZWekYyaDw",
        "outputId": "a4fe5a6d-b8e7-4d92-ec5e-b26a40d6c308"
      },
      "execution_count": null,
      "outputs": [
        {
          "output_type": "stream",
          "name": "stdout",
          "text": [
            "date_of_puzzle: 2024-01-07\n",
            "letters_list: ['yde', 'ola', 'fin', 'uvt']\n",
            "Today's dictionary saved to: ./words/nyt/2024-01-07.txt\n",
            "start time: 2024-01-07 16:59:25.504208\n",
            "one word chains found 0\n",
            "two word chains found 6\n"
          ]
        },
        {
          "output_type": "stream",
          "name": "stderr",
          "text": [
            "three word chains found 4446: 100%|\u001b[34m██████████\u001b[0m| 48012/48012 [00:19<00:00, 2481.94it/s]\n"
          ]
        },
        {
          "output_type": "stream",
          "name": "stdout",
          "text": [
            "end_time: 2024-01-07 16:59:45.870212\n",
            "duration: 0:00:20.366004\n",
            "one word chains: 0\n",
            "two word chains: 6\n",
            "three word chains: 4446\n",
            "Results have been saved to: ./results/2024-01-07/output_nyt.json\n"
          ]
        }
      ]
    },
    {
      "cell_type": "markdown",
      "source": [
        "Using the file_path variable, get results from saved file and print the provided solution and the top 10 two and three word chains."
      ],
      "metadata": {
        "id": "rii4N6jO5Wl8"
      }
    },
    {
      "cell_type": "code",
      "source": [
        "results = json.load(open(file_path))\n",
        "nyt_solution = results[\"nyt_solution\"]\n",
        "\n",
        "print(f\"New York Times provided solution:\\n\\t{nyt_solution}\")\n",
        "\n",
        "print(\"\\nShortest 10 two word chains:\")\n",
        "for r in results[\"top 10 two word chains\"]:\n",
        "    print(\"\\t\"+r)\n",
        "\n",
        "print(\"\\nShortest 10 three word chains:\")\n",
        "for r in results[\"top 10 three word chains\"]:\n",
        "    print(\"\\t\"+r)"
      ],
      "metadata": {
        "colab": {
          "base_uri": "https://localhost:8080/"
        },
        "id": "HVXUTEK32tMN",
        "outputId": "1c2a6cee-0212-47b7-cada-cab7fbc69a5a"
      },
      "execution_count": null,
      "outputs": [
        {
          "output_type": "stream",
          "name": "stdout",
          "text": [
            "New York Times provided solution:\n",
            "\tfoundation - novelty\n",
            "\n",
            "Shortest 10 two word chains:\n",
            "\t1. found - datively\n",
            "\t2. fovea - audiently\n",
            "\t2. fundido - ovately\n",
            "\t4. foundation - naively\n",
            "\t4. foundation - novelty\n",
            "\t6. foundation - natively\n",
            "\n",
            "Shortest 10 three word chains:\n",
            "\t1. dof - fun - natively\n",
            "\t1. faulty - yond - dive\n",
            "\t1. flu - udon - naivety\n",
            "\t1. fluid - date - envoy\n",
            "\t1. foe - elvan - nudity\n",
            "\t1. fou - und - datively\n",
            "\t1. found - datil - levy\n",
            "\t1. fount - tea - avidly\n",
            "\t1. fovea - aunty - ylid\n",
            "\t1. fun - natively - yod\n",
            "\t1. fun - nod - datively\n",
            "\t1. funt - toea - avidly\n",
            "\t1. nota - aidful - levy\n",
            "\t1. unlive - eft - today\n",
            "\t1. ventil - ludo - ofay\n",
            "\t1. veto - onya - aidful\n",
            "\t1. vodun - nail - lefty\n",
            "\t1. vodun - nelia - afty\n",
            "\t1. yod - divan - netful\n"
          ]
        }
      ]
    },
    {
      "cell_type": "markdown",
      "source": [
        "## Solver Options\n",
        "\n",
        "Some arguments are available to define a custom puzzle and change some output settings."
      ],
      "metadata": {
        "id": "-JfNKOi5eLBo"
      }
    },
    {
      "cell_type": "markdown",
      "source": [
        "See available arguments with -h\n",
        "\n",
        "Note: The -o argument utilizes interactive prompts that do not work within a notebook"
      ],
      "metadata": {
        "id": "894FEqdqIK8W"
      }
    },
    {
      "cell_type": "code",
      "source": [
        "%run letterboxed.py -h"
      ],
      "metadata": {
        "id": "D1NMJLpiG-IO",
        "colab": {
          "base_uri": "https://localhost:8080/"
        },
        "outputId": "ba8fd4cd-b604-4460-938e-d847bcd088bd"
      },
      "execution_count": null,
      "outputs": [
        {
          "output_type": "stream",
          "name": "stdout",
          "text": [
            "usage: letterboxed.py [-h] [-o | -c letters word_list] [-r] [-ns]\n",
            "\n",
            "For -c arg, include letters and word_list ex. -c \"abcdefghijkl\" \"words_easy\"\n",
            "\n",
            "options:\n",
            "  -h, --help            show this help message and exit\n",
            "  -o, --options         Options prompt (terminal only)\n",
            "  -c letters word_list, --custom letters word_list\n",
            "                        Custom puzzle args \"letterslist\"\n",
            "                        [\"scrabble_plus_long\",\"words_easy\",\"words_hard\"]\n",
            "  -r, --results         Results printed, progress bar disabled\n",
            "  -ns, --nosave         No save to file, just print the top results\n"
          ]
        }
      ]
    },
    {
      "cell_type": "markdown",
      "source": [
        "Custom puzzles can be defined and solved with the -c option"
      ],
      "metadata": {
        "id": "4sBdyuQSfY1m"
      }
    },
    {
      "cell_type": "code",
      "source": [
        "%run letterboxed.py -c \"qtauibeolsny\" \"words_easy\""
      ],
      "metadata": {
        "colab": {
          "base_uri": "https://localhost:8080/"
        },
        "id": "WMcxhom4f8OJ",
        "outputId": "3ed506cd-ab0b-4080-aeb5-396ec46228b3"
      },
      "execution_count": null,
      "outputs": [
        {
          "output_type": "stream",
          "name": "stdout",
          "text": [
            "date_of_puzzle: 2024-01-07\n",
            "letters_list: ['qta', 'uib', 'eol', 'sny']\n",
            "start time: 2024-01-07 16:59:46.716637\n",
            "one word chains found 2\n",
            "two word chains found 149\n"
          ]
        },
        {
          "output_type": "stream",
          "name": "stderr",
          "text": [
            "three word chains found 58178: 100%|\u001b[34m██████████\u001b[0m| 110370/110370 [00:45<00:00, 2434.22it/s]\n"
          ]
        },
        {
          "output_type": "stream",
          "name": "stdout",
          "text": [
            "end_time: 2024-01-07 17:00:34.949239\n",
            "duration: 0:00:48.232602\n",
            "one word chains: 2\n",
            "two word chains: 149\n",
            "three word chains: 58178\n",
            "Results have been saved to: ./results/2024-01-07/output_qtauibeolsny_words_easy.json\n"
          ]
        }
      ]
    },
    {
      "cell_type": "markdown",
      "source": [
        "Same as before, the results are saved to the Files area to the left. We can also retrieve and print the top results."
      ],
      "metadata": {
        "id": "A2Ne-SI7gpD2"
      }
    },
    {
      "cell_type": "code",
      "source": [
        "results = json.load(open(file_path))\n",
        "\n",
        "print(\"Shortest 10 one word chains:\")\n",
        "for r in results[\"top 10 one word chains\"]:\n",
        "    print(\"\\t\"+r)\n",
        "\n",
        "print(\"\\nShortest 10 two word chains:\")\n",
        "for r in results[\"top 10 two word chains\"]:\n",
        "    print(\"\\t\"+r)\n",
        "\n",
        "print(\"\\nShortest 10 three word chains:\")\n",
        "for r in results[\"top 10 three word chains\"]:\n",
        "    print(\"\\t\"+r)"
      ],
      "metadata": {
        "colab": {
          "base_uri": "https://localhost:8080/"
        },
        "id": "5OiyQI82gnhK",
        "outputId": "2d00e225-5ef1-4668-b738-e593c7806f73"
      },
      "execution_count": null,
      "outputs": [
        {
          "output_type": "stream",
          "name": "stdout",
          "text": [
            "Shortest 10 one word chains:\n",
            "\t1. questionably\n",
            "\t2. unquestionably\n",
            "\n",
            "Shortest 10 two word chains:\n",
            "\t1. basques - stonily\n",
            "\t1. bosques - saintly\n",
            "\t1. obliques - sanity\n",
            "\t4. aliquots - soybean\n",
            "\t4. banquets - stonily\n",
            "\t4. bequest - tonality\n",
            "\t4. bosques - salinity\n",
            "\t4. bosquet - tonality\n",
            "\t4. bouquets - saintly\n",
            "\t4. boyos - sequential\n",
            "\t4. liq - questionably\n",
            "\t4. obliques - saintly\n",
            "\t4. oilstone - equably\n",
            "\t4. questionably - yay\n",
            "\t4. questionably - yea\n",
            "\t4. questionably - yen\n",
            "\t4. questionably - yes\n",
            "\t4. questionably - yet\n",
            "\t4. questionably - yin\n",
            "\t4. questionably - yon\n",
            "\t4. questionably - you\n",
            "\t4. quotients - suably\n",
            "\t4. seq - questionably\n",
            "\t4. sequoia - absently\n",
            "\n",
            "Shortest 10 three word chains:\n",
            "\t1. alto - obsequy - yin\n",
            "\t1. bali - inquest - toy\n",
            "\t1. boa - antiques - sly\n",
            "\t1. byte - equal - linos\n",
            "\t1. equably - yin - nots\n",
            "\t1. equably - yon - nits\n",
            "\t1. equably - yoni - its\n",
            "\t1. iqs - sot - tuneably\n",
            "\t1. lbs - soya - antique\n",
            "\t1. linos - squab - byte\n",
            "\t1. lits - squab - boney\n",
            "\t1. nobs - seq - quality\n",
            "\t1. nos - site - equably\n",
            "\t1. only - yetis - squab\n",
            "\t1. quail - lbs - stoney\n",
            "\t1. quails - stye - ebon\n",
            "\t1. quaintly - yes - sob\n",
            "\t1. quality - yen - nobs\n",
            "\t1. quality - yon - nebs\n",
            "\t1. que - ebon - nastily\n",
            "\t1. que - estonia - ably\n",
            "\t1. quean - nobs - silty\n",
            "\t1. quean - nobs - styli\n",
            "\t1. quoin - neb - blasty\n",
            "\t1. quoin - nebs - salty\n",
            "\t1. quos - sit - tenably\n",
            "\t1. sin - note - equably\n",
            "\t1. sit - tone - equably\n",
            "\t1. site - equably - yon\n",
            "\t1. sot - tine - equably\n",
            "\t1. tin - nose - equably\n"
          ]
        }
      ]
    }
  ]
}